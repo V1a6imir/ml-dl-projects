{
 "cells": [
  {
   "cell_type": "code",
   "execution_count": 18,
   "id": "3a89a7f9",
   "metadata": {},
   "outputs": [],
   "source": [
    "import numpy as np\n",
    "import pandas as pd\n",
    "import matplotlib.pyplot as plt"
   ]
  },
  {
   "cell_type": "code",
   "execution_count": 19,
   "id": "e1d20c7a",
   "metadata": {},
   "outputs": [],
   "source": [
    "x = pd.read_csv('https://raw.githubusercontent.com/koroteevmv/ML_course/main/ML1.1_sgd/data/x.csv', index_col=0)[\"0\"]\n",
    "y = pd.read_csv('https://raw.githubusercontent.com/koroteevmv/ML_course/main/ML1.1_sgd/data/y.csv', index_col=0)[\"0\"]"
   ]
  },
  {
   "cell_type": "code",
   "execution_count": 20,
   "id": "a50be575",
   "metadata": {},
   "outputs": [
    {
     "data": {
      "text/plain": [
       "(0    1.462108\n",
       " 1    1.133769\n",
       " 2   -2.301539\n",
       " 3    1.744812\n",
       " 4    0.042214\n",
       " Name: 0, dtype: float64,\n",
       " 0    101.159902\n",
       " 1     78.442913\n",
       " 2   -159.238195\n",
       " 3    120.719533\n",
       " 4      2.920673\n",
       " Name: 0, dtype: float64)"
      ]
     },
     "execution_count": 20,
     "metadata": {},
     "output_type": "execute_result"
    }
   ],
   "source": [
    "x.head(), y.head()"
   ]
  },
  {
   "cell_type": "code",
   "execution_count": 21,
   "id": "c29770c1",
   "metadata": {},
   "outputs": [
    {
     "data": {
      "image/png": "[encoded data removed]",
      "text/plain": [
       "<Figure size 432x288 with 1 Axes>"
      ]
     },
     "metadata": {
      "needs_background": "light"
     },
     "output_type": "display_data"
    }
   ],
   "source": [
    "plt.figure()\n",
    "plt.scatter(x, y)\n",
    "plt.show()"
   ]
  },
  {
   "cell_type": "code",
   "execution_count": 40,
   "id": "01d6d2e9",
   "metadata": {},
   "outputs": [],
   "source": [
    "class Model(object):\n",
    "    \"\"\"Модель парной линейной регрессии\"\"\"\n",
    "    def __init__(self):\n",
    "        self.b0 = 0\n",
    "        self.b1 = 0\n",
    "    def predict(self, X):\n",
    "        return self.b0 + self.b1 * X\n",
    "    def error(self, X, Y):\n",
    "        return sum(((self.predict(X) - Y)**2) / (2 * len(X)))\n",
    "    def fit(self, X, Y, alpha=0.001, accuracy=0.01, max_steps=5000):\n",
    "        steps, errors = [], []\n",
    "        step = 0        \n",
    "        for _ in range(10000):\n",
    "            dJ0 = sum(self.predict(X) - Y) /len(X)\n",
    "            dJ1 = sum((self.predict(X) - Y) * X) /len(X)\n",
    "            self.b0 -= alpha * dJ0\n",
    "            self.b1 -= alpha * dJ1    \n",
    "            new_err = hyp.error(X, Y)\n",
    "            step += 1            \n",
    "            steps.append(step)\n",
    "            errors.append(new_err)\n",
    "        return steps, errors"
   ]
  },
  {
   "cell_type": "code",
   "execution_count": 41,
   "id": "6834760a",
   "metadata": {},
   "outputs": [
    {
     "name": "stdout",
     "output_type": "stream",
     "text": [
      "0\n",
      "0\n",
      "initial error: 2937.6446095153397\n"
     ]
    }
   ],
   "source": [
    "hyp = Model()\n",
    "print(hyp.predict(0))\n",
    "print(hyp.predict(100))\n",
    "J = hyp.error(x, y)\n",
    "print(\"initial error:\", J)"
   ]
  },
  {
   "cell_type": "code",
   "execution_count": 45,
   "id": "a5519ffa",
   "metadata": {},
   "outputs": [
    {
     "name": "stdout",
     "output_type": "stream",
     "text": [
      "error after gradient descent: 2.776975306057215e-06\n"
     ]
    }
   ],
   "source": [
    "hyp = Model()\n",
    "steps, errors = hyp.fit(x, y)\n",
    "J = hyp.error(x, y)\n",
    "print(\"error after gradient descent:\", J)"
   ]
  },
  {
   "cell_type": "code",
   "execution_count": 46,
   "id": "1102c4a2",
   "metadata": {},
   "outputs": [
    {
     "data": {
      "image/png": "[encoded data removed]",
      "text/plain": [
       "<Figure size 432x288 with 1 Axes>"
      ]
     },
     "metadata": {
      "needs_background": "light"
     },
     "output_type": "display_data"
    }
   ],
   "source": [
    "X0=np.linspace(-3, 2, 100)\n",
    "Y0=hyp.predict(X0)\n",
    "plt.figure()\n",
    "plt.scatter(x, y)\n",
    "plt.plot(X0, Y0, 'r')\n",
    "plt.show()"
   ]
  },
  {
   "cell_type": "code",
   "execution_count": 47,
   "id": "6419961f",
   "metadata": {},
   "outputs": [
    {
     "data": {
      "image/png": "[encoded data removed]",
      "text/plain": [
       "<Figure size 432x288 with 1 Axes>"
      ]
     },
     "metadata": {
      "needs_background": "light"
     },
     "output_type": "display_data"
    }
   ],
   "source": [
    "plt.figure()\n",
    "plt.plot(steps, errors, 'g')\n",
    "plt.show()"
   ]
  },
  {
   "cell_type": "markdown",
   "id": "01935b19",
   "metadata": {},
   "source": [
    "### 1) Проверьте работу модели с разными начальными значениями параметров. Убедитесь, что модель всегда сходится к оптимуму."
   ]
  },
  {
   "cell_type": "code",
   "execution_count": 73,
   "id": "e2ae584d",
   "metadata": {},
   "outputs": [],
   "source": [
    "class Model(object):\n",
    "    \"\"\"Модель парной линейной регрессии\"\"\"\n",
    "    def __init__(self):\n",
    "        self.b0 = 53\n",
    "        self.b1 = 100\n",
    "    def predict(self, X):\n",
    "        return self.b0 + self.b1 * X\n",
    "    def error(self, X, Y):\n",
    "        return sum(((self.predict(X) - Y)**2) / (2 * len(X)))\n",
    "    def fit(self, X, Y, alpha=0.001, accuracy=0.01, max_steps=5000):\n",
    "        steps, errors = [], []\n",
    "        step = 0        \n",
    "        for _ in range(10000):\n",
    "            dJ0 = sum(self.predict(X) - Y) /len(X)\n",
    "            dJ1 = sum((self.predict(X) - Y) * X) /len(X)\n",
    "            self.b0 -= alpha * dJ0\n",
    "            self.b1 -= alpha * dJ1    \n",
    "            new_err = hyp.error(X, Y)\n",
    "            step += 1            \n",
    "            steps.append(step)\n",
    "            errors.append(new_err)\n",
    "        return steps, errors"
   ]
  },
  {
   "cell_type": "code",
   "execution_count": 74,
   "id": "7b16feb5",
   "metadata": {},
   "outputs": [
    {
     "name": "stdout",
     "output_type": "stream",
     "text": [
      "53\n",
      "10053\n",
      "initial error: 1769.3338717508277\n"
     ]
    }
   ],
   "source": [
    "hyp = Model()\n",
    "print(hyp.predict(0))\n",
    "print(hyp.predict(100))\n",
    "J = hyp.error(x, y)\n",
    "print(\"initial error:\", J)"
   ]
  },
  {
   "cell_type": "code",
   "execution_count": 75,
   "id": "79714ef1",
   "metadata": {},
   "outputs": [
    {
     "name": "stdout",
     "output_type": "stream",
     "text": [
      "error after gradient descent: 1.223272131502396e-05\n"
     ]
    }
   ],
   "source": [
    "hyp = Model()\n",
    "steps, errors = hyp.fit(x, y)\n",
    "J = hyp.error(x, y)\n",
    "print(\"error after gradient descent:\", J)"
   ]
  },
  {
   "cell_type": "code",
   "execution_count": 76,
   "id": "6dd357c7",
   "metadata": {},
   "outputs": [
    {
     "data": {
      "image/png": "[encoded data removed]",
      "text/plain": [
       "<Figure size 432x288 with 1 Axes>"
      ]
     },
     "metadata": {
      "needs_background": "light"
     },
     "output_type": "display_data"
    }
   ],
   "source": [
    "X0=np.linspace(-3, 2, 100)\n",
    "Y0=hyp.predict(X0)\n",
    "plt.figure()\n",
    "plt.scatter(x, y)\n",
    "plt.plot(X0, Y0, 'r')\n",
    "plt.show()"
   ]
  },
  {
   "cell_type": "code",
   "execution_count": 77,
   "id": "0284abb0",
   "metadata": {},
   "outputs": [
    {
     "data": {
      "image/png": "[encoded data removed]",
      "text/plain": [
       "<Figure size 432x288 with 1 Axes>"
      ]
     },
     "metadata": {
      "needs_background": "light"
     },
     "output_type": "display_data"
    }
   ],
   "source": [
    "plt.figure()\n",
    "plt.plot(steps, errors, 'g')\n",
    "plt.show()"
   ]
  },
  {
   "cell_type": "markdown",
   "id": "c8c26c42",
   "metadata": {},
   "source": [
    "### 2) Проверьте работу модели с другими значениями скорости обучения. Найдите значение, при котором градиентный спуск расходится."
   ]
  },
  {
   "cell_type": "code",
   "execution_count": 205,
   "id": "86d8b684",
   "metadata": {},
   "outputs": [],
   "source": [
    "class Model(object):\n",
    "    \"\"\"Модель парной линейной регрессии\"\"\"\n",
    "    def __init__(self):\n",
    "        self.b0 = 0\n",
    "        self.b1 = 0\n",
    "    def predict(self, X):\n",
    "        return self.b0 + self.b1 * X\n",
    "    def error(self, X, Y):\n",
    "        return sum(((self.predict(X) - Y)**2) / (2 * len(X)))\n",
    "    def fit(self, X, Y, alpha=0.01, accuracy=0.01, max_steps=5000):\n",
    "        steps, errors = [], []\n",
    "        step = 0        \n",
    "        for _ in range(10000):\n",
    "            dJ0 = sum(self.predict(X) - Y) /len(X)\n",
    "            dJ1 = sum((self.predict(X) - Y) * X) /len(X)\n",
    "            self.b0 -= alpha * dJ0\n",
    "            self.b1 -= alpha * dJ1    \n",
    "            new_err = hyp.error(X, Y)\n",
    "            step += 1            \n",
    "            steps.append(step)\n",
    "            errors.append(new_err)\n",
    "        return steps, errors"
   ]
  },
  {
   "cell_type": "code",
   "execution_count": 206,
   "id": "0fe5b033",
   "metadata": {},
   "outputs": [
    {
     "name": "stdout",
     "output_type": "stream",
     "text": [
      "0\n",
      "0\n",
      "initial error: 2937.6446095153397\n"
     ]
    }
   ],
   "source": [
    "hyp = Model()\n",
    "print(hyp.predict(0))\n",
    "print(hyp.predict(100))\n",
    "J = hyp.error(x, y)\n",
    "print(\"initial error:\", J)"
   ]
  },
  {
   "cell_type": "code",
   "execution_count": 207,
   "id": "ee2ab3e5",
   "metadata": {},
   "outputs": [
    {
     "name": "stdout",
     "output_type": "stream",
     "text": [
      "error after gradient descent: 2.006036254818294e-25\n"
     ]
    }
   ],
   "source": [
    "hyp = Model()\n",
    "steps, errors = hyp.fit(x, y)\n",
    "J = hyp.error(x, y)\n",
    "print(\"error after gradient descent:\", J)"
   ]
  },
  {
   "cell_type": "code",
   "execution_count": 208,
   "id": "3a58b2e2",
   "metadata": {},
   "outputs": [
    {
     "data": {
      "image/png": "[encoded data removed]",
      "text/plain": [
       "<Figure size 432x288 with 1 Axes>"
      ]
     },
     "metadata": {
      "needs_background": "light"
     },
     "output_type": "display_data"
    }
   ],
   "source": [
    "X0=np.linspace(-3, 2, 100)\n",
    "Y0=hyp.predict(X0)\n",
    "plt.figure()\n",
    "plt.scatter(x, y)\n",
    "plt.plot(X0, Y0, 'r')\n",
    "plt.show()"
   ]
  },
  {
   "cell_type": "code",
   "execution_count": 209,
   "id": "d8b9627f",
   "metadata": {},
   "outputs": [
    {
     "data": {
      "image/png": "[encoded data removed]",
      "text/plain": [
       "<Figure size 432x288 with 1 Axes>"
      ]
     },
     "metadata": {
      "needs_background": "light"
     },
     "output_type": "display_data"
    }
   ],
   "source": [
    "plt.figure()\n",
    "plt.plot(steps, errors, 'g')\n",
    "plt.show()"
   ]
  },
  {
   "cell_type": "markdown",
   "id": "6b91dd6d",
   "metadata": {},
   "source": [
    "### 3) Модифицируйте код модели таким образом, чтобы он корректно работал как с Series, так и с DataFrame. При этом, конечно, датафрейм не должен содержать \"лишних\" столбцов."
   ]
  },
  {
   "cell_type": "code",
   "execution_count": null,
   "id": "e4d5e214",
   "metadata": {},
   "outputs": [],
   "source": []
  },
  {
   "cell_type": "code",
   "execution_count": null,
   "id": "5138099b",
   "metadata": {},
   "outputs": [],
   "source": []
  }
 ],
 "metadata": {
  "kernelspec": {
   "display_name": "Python 3 (ipykernel)",
   "language": "python",
   "name": "python3"
  },
  "language_info": {
   "codemirror_mode": {
    "name": "ipython",
    "version": 3
   },
   "file_extension": ".py",
   "mimetype": "text/x-python",
   "name": "python",
   "nbconvert_exporter": "python",
   "pygments_lexer": "ipython3",
   "version": "3.9.12"
  }
 },
 "nbformat": 4,
 "nbformat_minor": 5
}

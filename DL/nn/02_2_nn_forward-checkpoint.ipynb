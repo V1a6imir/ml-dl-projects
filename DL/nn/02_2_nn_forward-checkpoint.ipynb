{
 "cells": [
  {
   "cell_type": "markdown",
   "id": "3a564d5f",
   "metadata": {},
   "source": [
    "#  Forward pass\n",
    "\n",
    "__Автор задач: Блохин Н.В. (NVBlokhin@fa.ru)__\n",
    "\n",
    "Материалы: \n",
    "* Deep Learning with PyTorch (2020) Авторы: Eli Stevens, Luca Antiga, Thomas Viehmann \n",
    "* https://pytorch.org/docs/stable/generated/torch.matmul.html\n",
    "* https://machinelearningmastery.com/choose-an-activation-function-for-deep-learning/\n",
    "* https://machinelearningmastery.com/loss-and-loss-functions-for-training-deep-learning-neural-networks/"
   ]
  },
  {
   "cell_type": "markdown",
   "id": "c9ecd663",
   "metadata": {},
   "source": [
    "## Задачи для совместного разбора"
   ]
  },
  {
   "cell_type": "markdown",
   "id": "a87d01a9",
   "metadata": {
    "id": "_2ArJn_nsdZC"
   },
   "source": [
    "1\\. Используя операции над матрицами и векторами из библиотеки `torch`, реализуйте нейрон с заданными весами `weights` и `bias`. Пропустите вектор `inputs` через нейрон и выведите результат. "
   ]
  },
  {
   "cell_type": "code",
   "execution_count": null,
   "id": "bc1b50d5",
   "metadata": {
    "id": "f4agkY9WqPwe"
   },
   "outputs": [],
   "source": [
    "class Neuron:\n",
    "  def __init__(self, weights, bias):\n",
    "    # <создать атрибуты объекта weights и bias>\n",
    "    pass\n",
    "  \n",
    "  def forward(self, inputs):\n",
    "    return # <реализовать логику нейрона>\n"
   ]
  },
  {
   "cell_type": "code",
   "execution_count": null,
   "id": "60f299f7",
   "metadata": {
    "id": "HJRkSkHHsb7u"
   },
   "outputs": [],
   "source": [
    "inputs = torch.tensor([1.0, 2.0, 3.0, 4.0])\n",
    "weights = torch.tensor([-0.2, 0.3, -0.5, 0.7])\n",
    "bias = 3.14"
   ]
  },
  {
   "cell_type": "markdown",
   "id": "32e5fe51",
   "metadata": {
    "id": "B9kngE6Fxs9D"
   },
   "source": [
    "2\\. Используя операции над матрицами и векторами из библиотеки `torch`, реализуйте функцию активации ReLU:\n",
    "\n",
    "![](https://wikimedia.org/api/rest_v1/media/math/render/svg/f4353f4e3e484130504049599d2e7b040793e1eb)\n",
    "\n",
    "Создайте матрицу размера (4,3), заполненную числами из стандартного нормального распределения, и проверьте работоспособность функции активации."
   ]
  },
  {
   "cell_type": "code",
   "execution_count": null,
   "id": "4679f4e5",
   "metadata": {
    "id": "jZLvMRByxSTC"
   },
   "outputs": [],
   "source": [
    "class ReLU:\n",
    "  def forward(self, inputs):\n",
    "    # <реализовать логику ReLU>\n",
    "    pass"
   ]
  },
  {
   "cell_type": "markdown",
   "id": "c6a16748",
   "metadata": {
    "id": "EY-k3eEs0f7f"
   },
   "source": [
    "3\\. Используя операции над матрицами и векторами из библиотеки `torch`, реализуйте функцию потерь MSE:\n",
    "\n",
    "![](https://wikimedia.org/api/rest_v1/media/math/render/svg/e258221518869aa1c6561bb75b99476c4734108e)\n",
    "где $Y_i$ - правильный ответ для примера $i$, $\\hat{Y_i}$ - предсказание модели для примера $i$, $n$ - количество примеров в батче."
   ]
  },
  {
   "cell_type": "code",
   "execution_count": null,
   "id": "e046dfa6",
   "metadata": {
    "id": "f9-wdj5Tz-br"
   },
   "outputs": [],
   "source": [
    "class MSELoss:\n",
    "  def forward(self, y_pred, y_true):\n",
    "    return # <реализовать логику MSE>"
   ]
  },
  {
   "cell_type": "code",
   "execution_count": null,
   "id": "e686f8b8",
   "metadata": {
    "id": "NAyuDU9F1Vuz"
   },
   "outputs": [],
   "source": [
    "y_pred = torch.tensor([1.0, 3.0, 5.0])\n",
    "y_true = torch.tensor([2.0, 3.0, 4.0])"
   ]
  },
  {
   "cell_type": "markdown",
   "id": "4d7b6d63",
   "metadata": {},
   "source": [
    "## Задачи для самостоятельного решения"
   ]
  },
  {
   "cell_type": "markdown",
   "id": "705e742b",
   "metadata": {
    "id": "0J2RM8f5wP33"
   },
   "source": [
    "### Cоздание полносвязных слоев"
   ]
  },
  {
   "cell_type": "markdown",
   "id": "36fe867c",
   "metadata": {
    "id": "OQ2OxH4_vBLu"
   },
   "source": [
    "<p class=\"task\" id=\"1_1\"></p>\n",
    "\n",
    "1\\.1 Используя операции над матрицами и векторами из библиотеки `torch`, реализуйте полносвязный слой из `n_neurons` нейронов с `n_features` весами у каждого нейрона (инициализируются из стандартного нормального распределения) и опциональным вектором смещения. \n",
    "\n",
    "$$y = xW^T + b$$\n",
    "\n",
    "Пропустите вектор `inputs` через слой и выведите результат. Результатом прогона сквозь слой должна быть матрица размера `batch_size` x `n_neurons`."
   ]
  },
  {
   "cell_type": "code",
   "execution_count": null,
   "id": "680571a2",
   "metadata": {},
   "outputs": [],
   "source": [
    "class Linear:\n",
    "    def __init__(self, n_neurons, n_features, bias: bool = False):\n",
    "        pass\n",
    "\n",
    "    def forward(self, inputs):\n",
    "        pass"
   ]
  },
  {
   "cell_type": "code",
   "execution_count": null,
   "id": "943ddd88",
   "metadata": {},
   "outputs": [],
   "source": [
    "# inputs: batch_size(3) x 4\n",
    "inputs = torch.tensor([[1, 2, 3, 2.5], \n",
    "                       [2, 5, -1, 2], \n",
    "                       [-1.5, 2.7, 3.3, -0.8]])"
   ]
  },
  {
   "cell_type": "markdown",
   "id": "fad52a4f",
   "metadata": {
    "id": "IPG4UqL4wajI"
   },
   "source": [
    "<p class=\"task\" id=\"1_2\"></p>\n",
    "\n",
    "1\\.2 Используя решение предыдущей задачи, создайте 2 полносвязных слоя и пропустите тензор `inputs` последовательно через эти два слоя. Количество нейронов в первом слое выберите произвольно, количество нейронов во втором слое выберите так, чтобы результатом прогона являлась матрица `batch_size x 7`. "
   ]
  },
  {
   "cell_type": "markdown",
   "id": "1f89bb8e",
   "metadata": {
    "id": "cRVH_2K7xTBC"
   },
   "source": [
    "### Создание функций активации"
   ]
  },
  {
   "cell_type": "markdown",
   "id": "d3c912a6",
   "metadata": {
    "id": "puExCWiKyTtb"
   },
   "source": [
    "<p class=\"task\" id=\"2_1\"></p>\n",
    "\n",
    "2\\.1 Используя операции над матрицами и векторами из библиотеки `torch`, реализуйте функцию активации softmax:\n",
    "\n",
    "![](https://wikimedia.org/api/rest_v1/media/math/render/svg/6d7500d980c313da83e4117da701bf7c8f1982f5)\n",
    "\n",
    "$$\\overrightarrow{x} = (x_1, ..., x_J)$$\n",
    "\n",
    "Создайте матрицу размера (4,3), заполненную числами из стандартного нормального распределения, и проверьте работоспособность функции активации. Строки матрицы трактовать как выходы линейного слоя некоторого классификатора для 4 различных примеров. Функция должна применяться переданной на вход матрице построчно."
   ]
  },
  {
   "cell_type": "code",
   "execution_count": null,
   "id": "41ec4062",
   "metadata": {
    "id": "fXNcFlqqyKHl"
   },
   "outputs": [],
   "source": [
    "class Softmax:\n",
    "    def forward(self, inputs):\n",
    "        # <реализовать логику Softmax>\n",
    "        pass"
   ]
  },
  {
   "cell_type": "markdown",
   "id": "1a8acbae",
   "metadata": {
    "id": "vxVK2TYez_Ye"
   },
   "source": [
    "<p class=\"task\" id=\"2_2\"></p>\n",
    "\n",
    "2.2 Используя операции над матрицами и векторами из библиотеки `torch`, реализуйте функцию активации ELU:\n",
    "\n",
    "![](https://wikimedia.org/api/rest_v1/media/math/render/svg/eb23becd37c3602c4838e53f532163279192e4fd)\n",
    "\n",
    "Создайте матрицу размера 4x3, заполненную числами из стандартного нормального распределения, и проверьте работоспособность функции активации."
   ]
  },
  {
   "cell_type": "code",
   "execution_count": null,
   "id": "998b3675",
   "metadata": {},
   "outputs": [],
   "source": [
    "class ELU:\n",
    "    def __init__(self, alpha: float):\n",
    "        pass\n",
    "    \n",
    "    def forward(self, inputs):\n",
    "        # <реализовать логику ELU>\n",
    "        pass"
   ]
  },
  {
   "cell_type": "markdown",
   "id": "aa02fb0d",
   "metadata": {
    "id": "0peh8r-20Pof"
   },
   "source": [
    "### Создание функции потерь"
   ]
  },
  {
   "cell_type": "markdown",
   "id": "bab7e56a",
   "metadata": {
    "id": "uaR7rILd1eWR"
   },
   "source": [
    "<p class=\"task\" id=\"3_1\"></p>\n",
    "\n",
    "3\\.1 Используя операции над матрицами и векторами из библиотеки `torch`, реализуйте функцию потерь CrossEntropyLoss:\n",
    "\n",
    "$$y_i = (y_{i,1},...,y_{i,k})$$ \n",
    "<img src=\"https://i.ibb.co/93gy1dN/Screenshot-9.png\" width=\"200\">\n",
    "\n",
    "$$ CrossEntropyLoss = \\frac{1}{n}\\sum_{i=1}^{n}{L_i}$$\n",
    "где $y_i$ - вектор правильных ответов для примера $i$, $\\hat{y_i}$ - вектор предсказаний модели для примера $i$; $k$ - количество классов, $n$ - количество примеров в батче.\n",
    "\n",
    "Создайте полносвязный слой с 3 нейронами и прогнать через него батч `inputs`. Полученный результат пропустите через функцию активации Softmax. Посчитайте значение функции потерь, трактуя вектор `y` как вектор правильных ответов."
   ]
  },
  {
   "cell_type": "code",
   "execution_count": null,
   "id": "f683f102",
   "metadata": {
    "id": "hQl8pJsT3HcF"
   },
   "outputs": [],
   "source": [
    "class CrossEntropyLoss:\n",
    "  def forward(self, y_pred, y_true):\n",
    "    # <реализовать логику функции потерь>\n",
    "    pass"
   ]
  },
  {
   "cell_type": "code",
   "execution_count": null,
   "id": "82a4dba3",
   "metadata": {
    "id": "s7Qoupfo1ZGJ"
   },
   "outputs": [],
   "source": [
    "inputs = torch.tensor([[1, 2, 3, 2.5], \n",
    "                        [2, 5, -1, 2], \n",
    "                        [-1.5, 2.7, 3.3, -0.8]])\n",
    "y = torch.tensor([1, 0, 0])"
   ]
  },
  {
   "cell_type": "markdown",
   "id": "7c9c82a1",
   "metadata": {
    "id": "fA6dbanf44_4"
   },
   "source": [
    "<p class=\"task\" id=\"3_2\"></p>\n",
    "\n",
    "3.2 Модифицируйте MSE, добавив L2-регуляризацию.\n",
    "\n",
    "$$MSE_R = MSE + \\lambda\\sum_{i=1}^{m}w_i^2$$\n",
    "\n",
    "где $\\lambda$ - коэффициент регуляризации; $w_i$ - веса модели."
   ]
  },
  {
   "cell_type": "code",
   "execution_count": null,
   "id": "b1f858a9",
   "metadata": {
    "id": "ADsZxD-h4_Os"
   },
   "outputs": [],
   "source": [
    "class MSERegularized:\n",
    "    def __init__(self, lambda_):\n",
    "        pass\n",
    "\n",
    "    def data_loss(self, y_pred, y_true):\n",
    "        # <подсчет первого слагаемого из формулы>\n",
    "        pass\n",
    "\n",
    "    def reg_loss(self, weights):\n",
    "        # <подсчет второго слагаемого из формулы>\n",
    "        pass\n",
    "\n",
    "    def forward(self, y_pred, y_true, weights):\n",
    "        return self.data_loss(y_pred, y_true) + self.reg_loss(weights)"
   ]
  },
  {
   "cell_type": "code",
   "execution_count": null,
   "id": "4c997c44",
   "metadata": {},
   "outputs": [],
   "source": [
    "y_pred = torch.tensor([-0.5, 1, 1.7])\n",
    "y_true = torch.tensor([0, 0.6, 2.3])\n",
    "weights = torch.normal(0, 5, (10, 1))"
   ]
  },
  {
   "cell_type": "markdown",
   "id": "66caa919",
   "metadata": {},
   "source": [
    "## Обратная связь\n",
    "- [ ] Хочу получить обратную связь по решению"
   ]
  }
 ],
 "metadata": {
  "kernelspec": {
   "display_name": "Python 3 (ipykernel)",
   "language": "python",
   "name": "python3"
  },
  "language_info": {
   "codemirror_mode": {
    "name": "ipython",
    "version": 3
   },
   "file_extension": ".py",
   "mimetype": "text/x-python",
   "name": "python",
   "nbconvert_exporter": "python",
   "pygments_lexer": "ipython3",
   "version": "3.10.10"
  }
 },
 "nbformat": 4,
 "nbformat_minor": 5
}

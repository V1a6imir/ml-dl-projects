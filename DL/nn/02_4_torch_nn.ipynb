{
 "cells": [
  {
   "cell_type": "markdown",
   "id": "3a564d5f",
   "metadata": {},
   "source": [
    "#  Создание и настройка нейронной сети при помощи пакета `torch`\n",
    "\n",
    "__Автор задач: Блохин Н.В. (NVBlokhin@fa.ru)__\n",
    "\n",
    "Материалы: \n",
    "* Deep Learning with PyTorch (2020) Авторы: Eli Stevens, Luca Antiga, Thomas Viehmann \n",
    "* https://pytorch.org/docs/stable/nn.html\n",
    "* https://pytorch.org/docs/stable/optim.html\n",
    "* https://pytorch.org/docs/stable/generated/torch.nn.CrossEntropyLoss.html\n",
    "* https://scikit-learn.org/stable/modules/generated/sklearn.datasets.make_circles.html\n",
    "* https://pytorch.org/tutorials/recipes/recipes/tensorboard_with_pytorch.html\n",
    "* https://pytorch.org/tutorials/intermediate/tensorboard_tutorial.html\n",
    "* https://saturncloud.io/blog/can-i-use-tensorboard-with-google-colab/"
   ]
  },
  {
   "cell_type": "markdown",
   "id": "c9ecd663",
   "metadata": {},
   "source": [
    "## Задачи для совместного разбора"
   ]
  },
  {
   "cell_type": "markdown",
   "id": "fb8f0713",
   "metadata": {},
   "source": [
    "1\\. Используя собственную реализацию нейрона и пакетного градиентного спуска, решите задачу регрессии. Для расчета градиентов воспользуйтесь возможностями по автоматическому дифференцированию `torch`. В качестве функции потерь используйте собственную реализацию MSE."
   ]
  },
  {
   "cell_type": "code",
   "execution_count": null,
   "id": "9640b55a",
   "metadata": {},
   "outputs": [],
   "source": [
    "from sklearn.datasets import make_regression\n",
    "\n",
    "X, y, coef = make_regression(n_features=4, n_informative=4, coef=True, bias=0.5, random_state=42)\n",
    "X = th.FloatTensor(X)\n",
    "y = th.FloatTensor(y)"
   ]
  },
  {
   "cell_type": "markdown",
   "id": "8666a4dc",
   "metadata": {},
   "source": [
    "2\\. Используя реализацию нейрона из `torch.nn`, решите задачу регрессии. Для расчета градиентов воспользуйтесь возможностями по автоматическому дифференцированию `torch`. В качестве функции потерь используйте собственную реализацию MSE. Для настройки весов реализуйте пакетный градиентный спуск с использованием `torch.optim`."
   ]
  },
  {
   "cell_type": "markdown",
   "id": "ea12da10",
   "metadata": {},
   "source": [
    "3\\. Добавьте визуализацию изменения значения функции потерь во время обучения, используя `tensorboard`."
   ]
  },
  {
   "cell_type": "markdown",
   "id": "4d7b6d63",
   "metadata": {},
   "source": [
    "## Задачи для самостоятельного решения"
   ]
  },
  {
   "cell_type": "markdown",
   "id": "db352c93",
   "metadata": {},
   "source": [
    "<p class=\"task\" id=\"1\"></p>\n",
    "\n",
    "1\\. Используя собственную реализацию полносвязного слоя и мини-пакетного градиентного спуска, решите задачу регрессии. Для расчета градиентов воспользуйтесь возможностями по автоматическому дифференцированию `torch`. В качестве функции потерь используйте собственную реализацию MSE.\n",
    "\n",
    "Предлагаемая архитектура нейронной сети: \n",
    "1. Полносвязный слой с 10 нейронами\n",
    "2. Активация ReLU\n",
    "3. Полносвязный слой с 1 нейроном\n",
    "\n",
    "- [ ] Проверено на семинаре"
   ]
  },
  {
   "cell_type": "code",
   "execution_count": null,
   "id": "aca84180",
   "metadata": {},
   "outputs": [],
   "source": [
    "import torch \n",
    "\n",
    "X = torch.linspace(0, 1, 100).view(-1, 1)\n",
    "y = torch.sin(2 * torch.pi * X) + 0.1 * torch.rand(X.size()) "
   ]
  },
  {
   "cell_type": "markdown",
   "id": "23f3c75f",
   "metadata": {},
   "source": [
    "<p class=\"task\" id=\"2\"></p>\n",
    "\n",
    "2\\. Используя реализацию полносвязного слоя из `torch.nn` решите задачу регрессии. В качестве функции потерь используйте реализацию MSE из `torch.nn`. Для настройки весов реализуйте мини-пакетный градиентный спуск с использованием `torch.optim`. Для создания модели опишите класс `Net`.\n",
    "\n",
    "Предлагаемая архитектура нейронной сети: \n",
    "1. Полносвязный слой с 10 нейронами\n",
    "2. Активация ReLU\n",
    "3. Полносвязный слой с 1 нейроном\n",
    "\n",
    "- [ ] Проверено на семинаре"
   ]
  },
  {
   "cell_type": "code",
   "execution_count": null,
   "id": "24df5bc7",
   "metadata": {},
   "outputs": [],
   "source": [
    "import torch \n",
    "\n",
    "X = torch.linspace(0, 1, 100).view(-1, 1)\n",
    "y = torch.sin(2 * torch.pi * X) + 0.1 * torch.rand(X.size()) "
   ]
  },
  {
   "cell_type": "markdown",
   "id": "09498776",
   "metadata": {},
   "source": [
    "<p class=\"task\" id=\"3\"></p>\n",
    "\n",
    "3\\. Используя реализацию полносвязного слоя из `torch.nn`, решите задачу регрессии. В качестве функции потерь используйте реализацию MSE из `torch.nn`. Для настройки весов реализуйте мини-пакетный градиентный спуск с использованием `torch.optim`. Для создания модели создайте объект класса `nn.Sequential`.\n",
    "\n",
    "Предлагаемая архитектура нейронной сети: \n",
    "1. Полносвязный слой с 10 нейронами\n",
    "2. Активация ReLU\n",
    "3. Полносвязный слой с 1 нейроном\n",
    "\n",
    "- [ ] Проверено на семинаре"
   ]
  },
  {
   "cell_type": "code",
   "execution_count": null,
   "id": "629e374d",
   "metadata": {},
   "outputs": [],
   "source": [
    "import torch \n",
    "\n",
    "X = torch.linspace(0, 1, 100).view(-1, 1)\n",
    "y = torch.sin(2 * torch.pi * X) + 0.1 * torch.rand(X.size()) "
   ]
  },
  {
   "cell_type": "markdown",
   "id": "0eefb672",
   "metadata": {},
   "source": [
    "<p class=\"task\" id=\"4\"></p>\n",
    "\n",
    "4\\. Используя реализацию полносвязного слоя из `torch.nn`, решите задачу классификации. В качестве функции потерь используйте реализацию `CrossEntropyLoss` из `torch.nn`. Для настройки весов реализуйте мини-пакетный градиентный спуск с использованием `torch.optim`.\n",
    "\n",
    "Создайте и настройте две модели. \n",
    "\n",
    "Модель 1: \n",
    "1. Полносвязный слой с 10 нейронами;\n",
    "3. Полносвязный слой с 2 нейронами.\n",
    "\n",
    "Модель 2: \n",
    "1. Полносвязный слой с 10 нейронами;\n",
    "2. Функция активации ReLU;\n",
    "3. Полносвязный слой с 2 нейронами.\n",
    "\n",
    "Для каждой модели выведите отчет по классификации и визуализацию результатов, где точки раскрашены в цвет наиболее вероятного класса.\n",
    "\n",
    "- [ ] Проверено на семинаре"
   ]
  },
  {
   "cell_type": "code",
   "execution_count": null,
   "id": "f531e33e",
   "metadata": {},
   "outputs": [],
   "source": [
    "from sklearn.datasets import make_circles\n",
    "\n",
    "X, y = make_circles(n_samples=1000, noise=0.05, random_state=42)\n",
    "X = th.FloatTensor(X)\n",
    "y = th.LongTensor(y)"
   ]
  },
  {
   "cell_type": "markdown",
   "id": "d1d68d83",
   "metadata": {},
   "source": [
    "<p class=\"task\" id=\"5\"></p>\n",
    "\n",
    "5\\. Используя реализацию полносвязного слоя из `torch.nn`, решите задачу регрессии. В качестве функции потерь используйте реализацию MSE из `torch.nn`. Для настройки весов реализуйте мини-пакетный градиентный спуск с использованием `torch.optim`. Перенесите вычисления на GPU и сравните время обучения с и без использования GPU. Решение должно корректно работать в случае отсутствия GPU без дополнительных изменений в коде. \n",
    "\n",
    "- [ ] Проверено на семинаре"
   ]
  },
  {
   "cell_type": "code",
   "execution_count": null,
   "id": "12e03227",
   "metadata": {},
   "outputs": [],
   "source": [
    "from sklearn.datasets import make_regression\n",
    "import torch as th\n",
    "\n",
    "X, y, coef = make_regression(\n",
    "    n_samples=10000, \n",
    "    n_features=10, \n",
    "    n_informative=6, \n",
    "    coef=True, \n",
    "    bias=0.5, \n",
    "    random_state=42\n",
    ")\n",
    "X = th.FloatTensor(X)\n",
    "y = th.FloatTensor(y).reshape(-1, 1)"
   ]
  },
  {
   "cell_type": "markdown",
   "id": "32ee0809",
   "metadata": {},
   "source": [
    "<p class=\"task\" id=\"6\"></p>\n",
    "\n",
    "6\\. Используя `torch`, решите задачу классификации. Разделите данные на обучающую и валидационную выборку.  Для настройки весов реализуйте мини-пакетный градиентный спуск на основе данных обучающих выборки.\n",
    "\n",
    "Используйте `tensorboard` для отслеживания процесса обучения модели. Для каждой эпохи оцените и сохраните среднее значение функции потерь по батчам (для обучающей выборки) и значение функции потерь для валидационной выборки. Визуализируйте граф вычислений модели. Добавьте визуализацию матрицы несоответствий (данную визуализацию можно сохранять не каждую эпоху, а с некоторой частотой) на валидационной выборке. Продемонстрируйте скриншоты интерфейса tensorboard с визуализациями.\n",
    "\n",
    "- [ ] Проверено на семинаре"
   ]
  },
  {
   "cell_type": "code",
   "execution_count": null,
   "id": "59fd50fc",
   "metadata": {},
   "outputs": [],
   "source": [
    "from sklearn.datasets import make_circles\n",
    "\n",
    "X, y = make_circles(n_samples=1000, noise=0.05, random_state=42)\n",
    "X = th.FloatTensor(X)\n",
    "y = th.LongTensor(y)"
   ]
  },
  {
   "cell_type": "markdown",
   "id": "66caa919",
   "metadata": {},
   "source": [
    "## Обратная связь\n",
    "- [ ] Хочу получить обратную связь по решению"
   ]
  }
 ],
 "metadata": {
  "kernelspec": {
   "display_name": "Python 3 (ipykernel)",
   "language": "python",
   "name": "python3"
  },
  "language_info": {
   "codemirror_mode": {
    "name": "ipython",
    "version": 3
   },
   "file_extension": ".py",
   "mimetype": "text/x-python",
   "name": "python",
   "nbconvert_exporter": "python",
   "pygments_lexer": "ipython3",
   "version": "3.9.13"
  }
 },
 "nbformat": 4,
 "nbformat_minor": 5
}

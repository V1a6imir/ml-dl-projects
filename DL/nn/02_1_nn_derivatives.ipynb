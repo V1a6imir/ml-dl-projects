{
 "cells": [
  {
   "cell_type": "markdown",
   "id": "3a564d5f",
   "metadata": {},
   "source": [
    "# Дифференцирование\n",
    "\n",
    "__Автор задач: Блохин Н.В. (NVBlokhin@fa.ru)__\n",
    "\n",
    "Материалы: \n",
    "* https://matplotlib.org/stable/api/_as_gen/matplotlib.pyplot.axhline.html#matplotlib.pyplot.axhline\n",
    "* https://numpy.org/doc/stable/reference/generated/numpy.log1p.html#numpy.log1p\n",
    "* https://docs.sympy.org/latest/tutorials/intro-tutorial/calculus.html\n",
    "* https://en.wikipedia.org/wiki/Finite_difference\n",
    "* https://pythonnumericalmethods.berkeley.edu/notebooks/chapter20.02-Finite-Difference-Approximating-Derivatives.html\n",
    "* https://en.wikipedia.org/wiki/Gradient_descent\n",
    "* https://pytorch.org/tutorials/beginner/blitz/autograd_tutorial.html\n",
    "* https://zhang-yang.medium.com/the-gradient-argument-in-pytorchs-backward-function-explained-by-examples-68f266950c29"
   ]
  },
  {
   "cell_type": "markdown",
   "id": "c9ecd663",
   "metadata": {},
   "source": [
    "## Задачи для совместного разбора"
   ]
  },
  {
   "cell_type": "markdown",
   "id": "7811b91e",
   "metadata": {},
   "source": [
    "1\\. Дана функция $f(x) = x^2$. Найдите производную этой функции различными способами"
   ]
  },
  {
   "cell_type": "markdown",
   "id": "4d7b6d63",
   "metadata": {},
   "source": [
    "## Задачи для самостоятельного решения"
   ]
  },
  {
   "cell_type": "markdown",
   "id": "a0d49029",
   "metadata": {},
   "source": [
    "<p class=\"task\" id=\"1\"></p>\n",
    "\n",
    "1\\. Дана функция $f(x)$. Найдите (аналитически) производную данной функции $f'(x)$ и реализуйте две этих функции. Постройте в одной системе координат графики $f(x)$, $f'(x)$ и $g(x) = 0$ на полуинтервале (0, 10]. Изобразите графики различными цветами и включите сетку. \n",
    "\n",
    "$$f(x) = \\frac{sin(x)}{\\ln(x) + 1}$$"
   ]
  },
  {
   "cell_type": "markdown",
   "id": "1a552181",
   "metadata": {},
   "source": [
    "<p class=\"task\" id=\"2\"></p>\n",
    "\n",
    "2\\. Дана функция $f(x)$. Найдите (используя символьные вычисления) производную данной функции $f'(x)$. Постройте в одной системе координат график $f(x)$, $f'(x)$ и $g(x) = 0$ на полуинтервале (0, 10]. Изобразите графики различными цветами и включите сетку. \n",
    "\n",
    "$$f(x) = \\frac{sin(x)}{\\ln(x) + 1}$$"
   ]
  },
  {
   "cell_type": "markdown",
   "id": "2723b924",
   "metadata": {},
   "source": [
    "<p class=\"task\" id=\"3\"></p>\n",
    "\n",
    "3\\. Дана функция $f(x)$. Найдите (численно) производную данной функции $f'(x)$ на полуинтервале (0, 10]. Постройте в одной системе координат график $f(x)$, $f'(x)$ и $g(x) = 0$. Изобразите графики различными цветами и включите сетку. \n",
    "\n",
    "$$f(x) = \\frac{sin(x)}{\\ln(x) + 1}$$"
   ]
  },
  {
   "cell_type": "markdown",
   "id": "ddcfe04a",
   "metadata": {},
   "source": [
    "<p class=\"task\" id=\"4\"></p>\n",
    "\n",
    "4\\. Найдите локальный минимум функции $f(x)$ при помощи метода градиетного спуска. В качестве начальной точки используйте $x_0 = 4$. Найдите локальный максимум этой же функции, используя в качестве начальной точки $x_0'=9$.\n",
    "\n",
    "$$f(x) = \\frac{sin(x)}{\\ln(x) + 1}$$"
   ]
  },
  {
   "cell_type": "markdown",
   "id": "10a77314",
   "metadata": {},
   "source": [
    "<p class=\"task\" id=\"5\"></p>\n",
    "\n",
    "5\\. Дана функция $f(x)$. Найдите (используя возможности по автоматическому дифференцированию пакета `torch`) производную данной функции $f'(x)$ на отрезке [0, 10]. Постройте в одной системе координат график $f(x)$, $f'(x)$ и $g(x) = 0$ на полуинтервале (0, 10]. Изобразите графики различными цветами и включите сетку. \n",
    "\n",
    "$$f(x) = \\frac{sin(x)}{\\ln(x) + 1}$$"
   ]
  },
  {
   "cell_type": "markdown",
   "id": "4efd4c19",
   "metadata": {},
   "source": [
    "<p class=\"task\" id=\"6\"></p>\n",
    "\n",
    "6\\. Дана функция $f(x)$. Найдите производную данной функции $f'(x)$ на отрезке [0, 10] при помощи формулы производной сложной функции. На этом же отрезке найдите, используя возможности по автоматическому дифференцированию пакета `torch`. Сравните результаты.\n",
    "\n",
    "$$f(x) = sin(cos(x))$$"
   ]
  },
  {
   "cell_type": "markdown",
   "id": "c11a49f3",
   "metadata": {},
   "source": [
    "## Обратная связь\n",
    "- [ ] Хочу получить обратную связь по решению"
   ]
  }
 ],
 "metadata": {
  "kernelspec": {
   "display_name": "Python 3 (ipykernel)",
   "language": "python",
   "name": "python3"
  },
  "language_info": {
   "codemirror_mode": {
    "name": "ipython",
    "version": 3
   },
   "file_extension": ".py",
   "mimetype": "text/x-python",
   "name": "python",
   "nbconvert_exporter": "python",
   "pygments_lexer": "ipython3",
   "version": "3.10.10"
  }
 },
 "nbformat": 4,
 "nbformat_minor": 5
}

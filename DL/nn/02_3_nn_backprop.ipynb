{
 "cells": [
  {
   "cell_type": "markdown",
   "id": "3a564d5f",
   "metadata": {},
   "source": [
    "#  Обратное распространение ошибки\n",
    "\n",
    "__Автор задач: Блохин Н.В. (NVBlokhin@fa.ru)__\n",
    "\n",
    "Материалы: \n",
    "* Deep Learning with PyTorch (2020) Авторы: Eli Stevens, Luca Antiga, Thomas Viehmann \n",
    "* http://cs231n.stanford.edu/handouts/linear-backprop.pdf\n",
    "* https://www.adityaagrawal.net/blog/deep_learning/bprop_fc\n",
    "* https://en.wikipedia.org/wiki/Stochastic_gradient_descent"
   ]
  },
  {
   "cell_type": "markdown",
   "id": "c9ecd663",
   "metadata": {},
   "source": [
    "## Задачи для совместного разбора"
   ]
  },
  {
   "cell_type": "markdown",
   "id": "77549ab0",
   "metadata": {},
   "source": [
    "1\\. Реализуйте обратное распространение ошибки для модели нейрона с квадратичной функцией потерь при условии, что на вход нейрону поступает вектор `inputs`. Проверьте корректность вычисления градиентов, воспользовавшись возможностями по автоматическому дифференцированию `torch`. "
   ]
  },
  {
   "cell_type": "markdown",
   "id": "6e56038a",
   "metadata": {},
   "source": [
    "2\\. Настройте модель нейрона, используя метод стохастического градиентного спуска"
   ]
  },
  {
   "cell_type": "markdown",
   "id": "4d7b6d63",
   "metadata": {},
   "source": [
    "## Задачи для самостоятельного решения"
   ]
  },
  {
   "cell_type": "markdown",
   "id": "af0bcdf1",
   "metadata": {},
   "source": [
    "<p class=\"task\" id=\"1\"></p>\n",
    "\n",
    "1\\. Реализуйте обратное распространение ошибки для модели нейрона с функцией потерь MSE при условии, что на вход нейрону поступает пакет (двумерный тензор) `inputs`. Проверьте корректность вычисления градиентов, воспользовавшись возможностями по автоматическому дифференцированию `torch`. \n",
    "\n",
    "$$\\mathbf{X} = \\begin{bmatrix}\n",
    "x_{10} & x_{11} & \\ldots & x_{1m} \\\\\n",
    "x_{20} & x_{21} & \\ldots & x_{2m} \\\\\n",
    "\\vdots & \\vdots & \\ddots & \\vdots \\\\\n",
    "x_{k0} & x_{k1} & \\ldots & x_{km} \\\\\n",
    "\\end{bmatrix}\n",
    "\\mathbf{Y} = \\begin{bmatrix}\n",
    "y_{1} \\\\\n",
    "y_{2} \\\\\n",
    "\\vdots \\\\\n",
    "y_{k} \\\\\n",
    "\\end{bmatrix}\n",
    "\\mathbf{W} = \\begin{bmatrix}\n",
    "w_{0} \\\\\n",
    "w_{1} \\\\\n",
    "\\vdots \\\\\n",
    "w_{m} \\\\\n",
    "\\end{bmatrix}$$\n",
    "\n",
    "$$\\hat{\\mathbf{Y}} = \\mathbf{X}\\times \\mathbf{W}$$\n",
    "\n",
    "$$L = \\frac{1}{k}\\sum_{k}{(\\hat{y_k}-y_k)^2}$$\n",
    "\n",
    "$$\\nabla_{\\hat{\\mathbf{Y}}} L=\\begin{bmatrix}\n",
    "\\frac{\\partial L}{\\partial \\hat{y_1}} \\\\\n",
    "\\frac{\\partial L}{\\partial \\hat{y_2}} \\\\\n",
    "\\vdots \\\\\n",
    "\\frac{\\partial L}{\\partial \\hat{y_k}} \\\\\n",
    "\\end{bmatrix} = \\frac{2}{k}\\begin{bmatrix}\n",
    "\\hat{y_1} - y_1 \\\\\n",
    "\\hat{y_2} - y_2 \\\\\n",
    "\\vdots \\\\\n",
    "\\hat{y_k} - y_k \\\\\n",
    "\\end{bmatrix}$$\n",
    "\n",
    "$$\\boldsymbol{\\nabla_{\\mathbf{W}} L = \\mathbf{X}^T\\nabla_{\\hat{\\mathbf{Y}}} L}$$\n",
    "\n",
    "- [ ] Проверено на семинаре"
   ]
  },
  {
   "cell_type": "markdown",
   "id": "461bb4b9",
   "metadata": {},
   "source": [
    "<p class=\"task\" id=\"2\"></p>\n",
    "\n",
    "2\\. Настройте модель нейрона, используя метод мини-пакетного градиентного спуска. Используйте обратное распространение ошибки, реализованное самостоятельно.\n",
    "\n",
    "- [ ] Проверено на семинаре"
   ]
  },
  {
   "cell_type": "code",
   "execution_count": null,
   "id": "382d3cce",
   "metadata": {},
   "outputs": [],
   "source": [
    "from sklearn.datasets import make_regression\n",
    "import torch as th\n",
    "\n",
    "X, y, coef = make_regression(n_features=4, n_informative=4, coef=True, bias=0.5, random_state=42)\n",
    "X = th.FloatTensor(X)\n",
    "y = th.FloatTensor(y).reshape(-1, 1)"
   ]
  },
  {
   "cell_type": "markdown",
   "id": "1a9f5aea",
   "metadata": {},
   "source": [
    "<p class=\"task\" id=\"3\"></p>\n",
    "\n",
    "3\\. Реализуйте обратное распространение ошибки для модели полносвязного слоя с функцией потерь MSE при условии, что на вход нейрону поступает пакет (двумерный тензор) `inputs`.  Проверьте корректность вычисления градиентов, воспользовавшись возможностями по автоматическому дифференцированию `torch`. \n",
    "\n",
    "$$\\mathbf{X} = \\begin{bmatrix}\n",
    "x_{10} & x_{11} & \\ldots & x_{1m} \\\\\n",
    "x_{20} & x_{21} & \\ldots & x_{2m} \\\\\n",
    "\\vdots & \\vdots & \\ddots & \\vdots \\\\\n",
    "x_{k0} & x_{k1} & \\ldots & x_{km} \\\\\n",
    "\\end{bmatrix}\n",
    "\\mathbf{Y} = \\begin{bmatrix}\n",
    "y_{1} \\\\\n",
    "y_{2} \\\\\n",
    "\\vdots \\\\\n",
    "y_{k} \\\\\n",
    "\\end{bmatrix}\n",
    "\\mathbf{W} = \\begin{bmatrix}\n",
    "w_{01} & w_{02} & \\ldots & w_{0n} \\\\\n",
    "w_{11} & w_{12} & \\ldots & w_{1n} \\\\\n",
    "\\vdots & \\vdots & \\ddots & \\vdots \\\\\n",
    "w_{m1} & w_{m2} & \\ldots & w_{mn} \\\\\n",
    "\\end{bmatrix}$$\n",
    "\n",
    "$$\\hat{\\mathbf{Y}} = \\mathbf{X}\\times \\mathbf{W}$$\n",
    "\n",
    "$$\\nabla_{\\hat{\\mathbf{Y}}} L = \\begin{bmatrix}\n",
    "\\frac{\\partial L}{\\partial \\hat{y_{11}}} & \\ldots & \\frac{\\partial L}{\\partial \\hat{y_{1n}}} \\\\\n",
    "\\vdots & \\vdots & \\vdots \\\\\n",
    "\\frac{\\partial L}{\\partial \\hat{y_{k1}}} & \\ldots & \\frac{\\partial L}{\\partial \\hat{y_{kn}}} \\\\\n",
    "\\end{bmatrix}$$\n",
    "\n",
    "$$\\boldsymbol{\\nabla_{\\mathbf{W}} L = \\mathbf{X}^T\\times \\nabla_{\\hat{\\mathbf{Y}}} L}$$\n",
    "$$\\boldsymbol{\\nabla_{\\mathbf{X}} L = \\nabla_{\\hat{\\mathbf{Y}}} L\\times \\mathbf{W}^T}$$\n",
    "\n",
    "- [ ] Проверено на семинаре"
   ]
  },
  {
   "cell_type": "markdown",
   "id": "4dd34314",
   "metadata": {},
   "source": [
    "<p class=\"task\" id=\"4\"></p>\n",
    "\n",
    "4\\. Настройте полносвязный слой, используя метод пакетного градиентного спуска. Используйте обратное распространение ошибки, реализованное самостоятельно.\n",
    "\n",
    "- [ ] Проверено на семинаре"
   ]
  },
  {
   "cell_type": "code",
   "execution_count": null,
   "id": "99ddc5e1",
   "metadata": {},
   "outputs": [],
   "source": [
    "from sklearn.datasets import make_regression\n",
    "import torch as th\n",
    "\n",
    "X, y, coef = make_regression(n_features=4, n_informative=4, coef=True, bias=0.5, random_state=42)\n",
    "X = th.FloatTensor(X)\n",
    "y = th.FloatTensor(y).reshape(-1, 1)"
   ]
  },
  {
   "cell_type": "markdown",
   "id": "e901a6c3",
   "metadata": {},
   "source": [
    "<p class=\"task\" id=\"5\"></p>\n",
    "\n",
    "5\\. Используя решения предыдущих задач, создайте нейросеть и решите задачу регрессии.\n",
    "\n",
    "Предлагаемая архитектура: \n",
    "1. Полносвязный слой с 10 нейронами\n",
    "2. Полносвязный слой с 1 нейроном\n",
    "\n",
    "В процессе обучения сохраняйте прогнозы промежуточных моделей. Визуализируйте облако точек и промежуточные прогнозы не менее 4 промежуточных моделей. Визуализируйте прогнозы итоговой модели.\n",
    "\n",
    "- [ ] Проверено на семинаре"
   ]
  },
  {
   "cell_type": "code",
   "execution_count": null,
   "id": "f97c40c0",
   "metadata": {},
   "outputs": [],
   "source": [
    "import torch as th\n",
    "\n",
    "th.manual_seed(42)\n",
    "X = th.linspace(-1, 1, 100).view(-1, 1)\n",
    "y = X.pow(2) + 0.2 * th.rand(X.size()) "
   ]
  },
  {
   "cell_type": "markdown",
   "id": "b4747371",
   "metadata": {},
   "source": [
    "<p class=\"task\" id=\"6\"></p>\n",
    "\n",
    "6\\. Cоздайте нейросеть и решите задачу регрессии из предыдущей задачи.\n",
    "\n",
    "Предлагаемая архитектура: \n",
    "1. Полносвязный слой с 10 нейронами\n",
    "2. Активация ReLU\n",
    "3. Полносвязный слой с 1 нейроном\n",
    "\n",
    "В процессе обучения сохраняйте прогнозы промежуточных моделей. Визуализируйте облако точек и промежуточные прогнозы не менее 4 промежуточных моделей. Визуализируйте прогнозы итоговой модели.\n",
    "\n",
    "- [ ] Проверено на семинаре"
   ]
  },
  {
   "cell_type": "markdown",
   "id": "66caa919",
   "metadata": {},
   "source": [
    "## Обратная связь\n",
    "- [ ] Хочу получить обратную связь по решению"
   ]
  }
 ],
 "metadata": {
  "kernelspec": {
   "display_name": "Python 3 (ipykernel)",
   "language": "python",
   "name": "python3"
  },
  "language_info": {
   "codemirror_mode": {
    "name": "ipython",
    "version": 3
   },
   "file_extension": ".py",
   "mimetype": "text/x-python",
   "name": "python",
   "nbconvert_exporter": "python",
   "pygments_lexer": "ipython3",
   "version": "3.9.13"
  }
 },
 "nbformat": 4,
 "nbformat_minor": 5
}
